{
 "cells": [
  {
   "cell_type": "markdown",
   "id": "5ca99ccf-e60f-4c09-9ffa-89180f5c7641",
   "metadata": {},
   "source": [
    "# Triton Inference Server with vLLM backend"
   ]
  },
  {
   "cell_type": "code",
   "execution_count": 1,
   "id": "15f3e194-be7f-4fdc-9f15-e63a25e68179",
   "metadata": {},
   "outputs": [],
   "source": [
    "import requests\n",
    "import json"
   ]
  },
  {
   "cell_type": "markdown",
   "id": "5baa3324-1042-477a-9150-3c2741693f05",
   "metadata": {},
   "source": [
    "## Inference with `microsoft/phi-2`"
   ]
  },
  {
   "cell_type": "code",
   "execution_count": null,
   "id": "b894c6f9-2245-4b58-ab4c-28aa6b4e6764",
   "metadata": {},
   "outputs": [],
   "source": [
    "# Define the URL for endpoint\n",
    "url = \"http://localhost:8000/v2/models/phi2/generate\"\n",
    "\n",
    "# Define payload\n",
    "payload = {\n",
    "    \"text_input\": \"What is triton inference server?\",\n",
    "    \"parameters\": {\n",
    "        \"stream\": False,\n",
    "        \"temperature\": 0,\n",
    "        \"max_tokens\": 100\n",
    "    }\n",
    "}\n",
    "\n",
    "# Set the headers (optional)\n",
    "headers = {\n",
    "    \"Content-Type\": \"application/json\"\n",
    "}\n",
    "\n",
    "# Send the POST request\n",
    "response = requests.post(url, data=json.dumps(payload), headers=headers)\n",
    "\n",
    "# Print the response\n",
    "print(response.status_code)\n",
    "print(response.json())"
   ]
  },
  {
   "cell_type": "markdown",
   "id": "3d469119-8e3b-4fd5-9c55-e10273cdf3ce",
   "metadata": {},
   "source": [
    "## Inference with `mistral-7b-instruct`"
   ]
  },
  {
   "cell_type": "code",
   "execution_count": null,
   "id": "4af4670f-18ee-4915-a499-46f82422f722",
   "metadata": {},
   "outputs": [],
   "source": [
    "# Define the URL for endpoint\n",
    "url = \"http://localhost:8000/v2/models/mistral-7b-instruct/generate\"\n",
    "\n",
    "# Define payload\n",
    "payload = {\n",
    "    \"text_input\": \"What is triton inference server?\",\n",
    "    \"parameters\": {\n",
    "        \"stream\": False,\n",
    "        \"temperature\": 0,\n",
    "        \"max_tokens\": 100\n",
    "    }\n",
    "}\n",
    "\n",
    "# Set the headers (optional)\n",
    "headers = {\n",
    "    \"Content-Type\": \"application/json\"\n",
    "}\n",
    "\n",
    "# Send the POST request\n",
    "response = requests.post(url, data=json.dumps(payload), headers=headers)\n",
    "\n",
    "# Print the response\n",
    "print(response.status_code)\n",
    "print(response.json())"
   ]
  },
  {
   "cell_type": "markdown",
   "id": "fc232816-e54f-4d7e-9de4-b39dca43dde7",
   "metadata": {},
   "source": [
    "## Inference with `meta-llama/Meta-Llama-3-8B-Instruct`"
   ]
  },
  {
   "cell_type": "code",
   "execution_count": null,
   "id": "7c564989-5289-4e8c-bb12-e5dd5df1149e",
   "metadata": {},
   "outputs": [],
   "source": [
    "# Define the URL for endpoint\n",
    "url = \"http://localhost:8000/v2/models/llama3-8b-instruct/generate\"\n",
    "\n",
    "# Define payload\n",
    "payload = {\n",
    "    \"text_input\": \"What is triton inference server?\",\n",
    "    \"parameters\": {\n",
    "        \"stream\": False,\n",
    "        \"temperature\": 0,\n",
    "        \"max_tokens\": 100\n",
    "    }\n",
    "}\n",
    "\n",
    "# Set the headers (optional)\n",
    "headers = {\n",
    "    \"Content-Type\": \"application/json\"\n",
    "}\n",
    "\n",
    "# Send the POST request\n",
    "response = requests.post(url, data=json.dumps(payload), headers=headers)\n",
    "\n",
    "# Print the response\n",
    "print(response.status_code)\n",
    "print(response.json())"
   ]
  },
  {
   "cell_type": "code",
   "execution_count": null,
   "id": "a5356ce7-ad12-46df-95f9-217411cab990",
   "metadata": {},
   "outputs": [],
   "source": []
  }
 ],
 "metadata": {
  "kernelspec": {
   "display_name": "Python 3 (ipykernel)",
   "language": "python",
   "name": "python3"
  },
  "language_info": {
   "codemirror_mode": {
    "name": "ipython",
    "version": 3
   },
   "file_extension": ".py",
   "mimetype": "text/x-python",
   "name": "python",
   "nbconvert_exporter": "python",
   "pygments_lexer": "ipython3",
   "version": "3.10.13"
  }
 },
 "nbformat": 4,
 "nbformat_minor": 5
}
